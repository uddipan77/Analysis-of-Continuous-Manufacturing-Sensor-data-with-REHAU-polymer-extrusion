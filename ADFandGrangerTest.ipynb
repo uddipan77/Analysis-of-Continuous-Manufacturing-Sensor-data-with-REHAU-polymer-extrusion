{
 "cells": [
  {
   "cell_type": "code",
   "execution_count": 1,
   "id": "c7d19e0c",
   "metadata": {},
   "outputs": [],
   "source": [
    "import numpy as np\n",
    "import pandas as pd\n",
    "import seaborn as sns"
   ]
  },
  {
   "cell_type": "code",
   "execution_count": 2,
   "id": "bd4ac106",
   "metadata": {},
   "outputs": [],
   "source": [
    "df = pd.read_parquet('C:\\\\Users\\\\uddip\\\\Downloads\\\\ABAWS2324.parq')"
   ]
  },
  {
   "cell_type": "code",
   "execution_count": 8,
   "id": "e50f9137",
   "metadata": {},
   "outputs": [],
   "source": [
    "#to display full dataframe\n",
    "#pd.set_option('display.max_columns', None)\n",
    "#pd.set_option('display.max_rows', None)\n",
    "\n",
    "# Set the display option to avoid scientific notation\n",
    "#pd.set_option('display.float_format', lambda x: '%.5f' % x)\n"
   ]
  },
  {
   "cell_type": "code",
   "execution_count": 3,
   "id": "d42cf9da",
   "metadata": {},
   "outputs": [],
   "source": []
  },
  {
   "cell_type": "code",
   "execution_count": 3,
   "id": "269599af",
   "metadata": {},
   "outputs": [],
   "source": [
    "filtered_df = df[df['timecode'] == '0']"
   ]
  },
  {
   "cell_type": "code",
   "execution_count": 4,
   "id": "3047a13b",
   "metadata": {},
   "outputs": [],
   "source": [
    "selected_columns = ['extr_extr01_melt01_pressure_r_value_act', 'extr_extr01_melt01_temp_r_value_act', 'extr_extr01_screw_load_r_value_act', 'extr_extr01_screw_rotspeed_r_value_act']"
   ]
  },
  {
   "cell_type": "code",
   "execution_count": 5,
   "id": "a42c4079",
   "metadata": {},
   "outputs": [],
   "source": [
    "filtered_df_new = filtered_df[selected_columns]"
   ]
  },
  {
   "cell_type": "code",
   "execution_count": 13,
   "id": "4a5cd96c",
   "metadata": {},
   "outputs": [],
   "source": []
  },
  {
   "cell_type": "code",
   "execution_count": 15,
   "id": "a9366304",
   "metadata": {},
   "outputs": [],
   "source": []
  },
  {
   "cell_type": "code",
   "execution_count": null,
   "id": "0380e81d",
   "metadata": {},
   "outputs": [],
   "source": []
  },
  {
   "cell_type": "markdown",
   "id": "35e7dae5",
   "metadata": {},
   "source": [
    "# stationary check, ADF Testing"
   ]
  },
  {
   "cell_type": "code",
   "execution_count": 9,
   "id": "1db755f8",
   "metadata": {},
   "outputs": [
    {
     "name": "stderr",
     "output_type": "stream",
     "text": [
      "C:\\Users\\uddip\\AppData\\Local\\Temp\\ipykernel_25928\\465753729.py:13: SettingWithCopyWarning: \n",
      "A value is trying to be set on a copy of a slice from a DataFrame\n",
      "\n",
      "See the caveats in the documentation: https://pandas.pydata.org/pandas-docs/stable/user_guide/indexing.html#returning-a-view-versus-a-copy\n",
      "  filtered_df_new.dropna(inplace=True)  # Drop rows with missing values\n"
     ]
    },
    {
     "name": "stdout",
     "output_type": "stream",
     "text": [
      "ADF test results for column: extr_extr01_funnel_active_r_value_act\n",
      "ADF Statistic: -6.222558890608615\n",
      "p-value: 5.180752475896608e-08\n",
      "Critical Values:\n",
      "\t1%: -3.4304356283119124\n",
      "\t5%: -2.8615778462432964\n",
      "\t10%: -2.56679014425346\n",
      "\n",
      "\n",
      "ADF test results for column: extr_extr01_melt01_pressure_r_value_act\n",
      "ADF Statistic: -7.549457338974977\n",
      "p-value: 3.217603578903355e-11\n",
      "Critical Values:\n",
      "\t1%: -3.4304356462557153\n",
      "\t5%: -2.861577854174034\n",
      "\t10%: -2.566790148474739\n",
      "\n",
      "\n",
      "ADF test results for column: extr_extr01_melt01_temp_r_value_act\n",
      "ADF Statistic: -8.334330791650236\n",
      "p-value: 3.3034844177327675e-13\n",
      "Critical Values:\n",
      "\t1%: -3.4304355969283433\n",
      "\t5%: -2.8615778323724976\n",
      "\t10%: -2.566790136870476\n",
      "\n",
      "\n",
      "ADF test results for column: extr_extr01_screw_load_r_value_act\n",
      "ADF Statistic: -7.172541377339293\n",
      "p-value: 2.780345725354147e-10\n",
      "Critical Values:\n",
      "\t1%: -3.4304356484992193\n",
      "\t5%: -2.8615778551656104\n",
      "\t10%: -2.5667901490025233\n",
      "\n",
      "\n",
      "ADF test results for column: extr_extr01_vacuum_r_value_act\n",
      "ADF Statistic: -12.172141824926248\n",
      "p-value: 1.4128120882958912e-22\n",
      "Critical Values:\n",
      "\t1%: -3.430435610375627\n",
      "\t5%: -2.8615778383158803\n",
      "\t10%: -2.566790140033949\n",
      "\n",
      "\n",
      "ADF test results for column: extr_extr01_screw_rotspeed_r_value_act\n",
      "ADF Statistic: -6.86968363279593\n",
      "p-value: 1.5269327199392206e-09\n",
      "Critical Values:\n",
      "\t1%: -3.4304356462557153\n",
      "\t5%: -2.861577854174034\n",
      "\t10%: -2.566790148474739\n",
      "\n",
      "\n"
     ]
    }
   ],
   "source": [
    "import pandas as pd\n",
    "from statsmodels.tsa.stattools import adfuller\n",
    "\n",
    "# Define the selected columns\n",
    "selected_columns = ['extr_extr01_funnel_active_r_value_act', \n",
    "                    'extr_extr01_melt01_pressure_r_value_act', \n",
    "                    'extr_extr01_melt01_temp_r_value_act', \n",
    "                    'extr_extr01_screw_load_r_value_act', \n",
    "                    'extr_extr01_vacuum_r_value_act', \n",
    "                    'extr_extr01_screw_rotspeed_r_value_act']\n",
    "\n",
    "# Handle missing values\n",
    "filtered_df_new.dropna(inplace=True)  # Drop rows with missing values\n",
    "\n",
    "# Perform ADF test for each column and print results\n",
    "for column in selected_columns:\n",
    "    print(f\"ADF test results for column: {column}\")\n",
    "    result = adfuller(filtered_df_new[column])\n",
    "    print(f\"ADF Statistic: {result[0]}\")\n",
    "    print(f\"p-value: {result[1]}\")\n",
    "    print(\"Critical Values:\")\n",
    "    for key, value in result[4].items():\n",
    "        print(f\"\\t{key}: {value}\")\n",
    "    print(\"\\n\")\n"
   ]
  },
  {
   "cell_type": "markdown",
   "id": "64b98b88",
   "metadata": {},
   "source": [
    "# Granger Test"
   ]
  },
  {
   "cell_type": "code",
   "execution_count": 6,
   "id": "f24ba943",
   "metadata": {},
   "outputs": [
    {
     "name": "stderr",
     "output_type": "stream",
     "text": [
      "C:\\Users\\uddip\\AppData\\Local\\Temp\\ipykernel_19964\\2907356674.py:12: SettingWithCopyWarning: \n",
      "A value is trying to be set on a copy of a slice from a DataFrame\n",
      "\n",
      "See the caveats in the documentation: https://pandas.pydata.org/pandas-docs/stable/user_guide/indexing.html#returning-a-view-versus-a-copy\n",
      "  filtered_df_new.dropna(inplace=True)  # Drop rows with missing values\n"
     ]
    },
    {
     "name": "stdout",
     "output_type": "stream",
     "text": [
      "Granger causality test results for extr_extr01_melt01_pressure_r_value_act:\n",
      "Potential cause: extr_extr01_melt01_temp_r_value_act\n",
      "{1: ({'ssr_ftest': (15.481856724841766, 8.337461003967321e-05, 76414.0, 1), 'ssr_chi2test': (15.48246453977325, 8.327422052214234e-05, 1), 'lrtest': (15.480896339402534, 8.334333967211195e-05, 1), 'params_ftest': (15.481856724794994, 8.337461004163988e-05, 76414.0, 1.0)}, [<statsmodels.regression.linear_model.RegressionResultsWrapper object at 0x000001FD5E9148E0>, <statsmodels.regression.linear_model.RegressionResultsWrapper object at 0x000001FD5E914AC0>, array([[0., 1., 0.]])]), 2: ({'ssr_ftest': (7.4260690896550345, 0.000595953762124276, 76411.0, 2), 'ssr_chi2test': (14.853110037954721, 0.0005952345556176336, 2), 'lrtest': (14.851666712726, 0.0005956642691786547, 2), 'params_ftest': (7.426069089660704, 0.0005959537621179745, 76411.0, 2.0)}, [<statsmodels.regression.linear_model.RegressionResultsWrapper object at 0x000001FD5E9147F0>, <statsmodels.regression.linear_model.RegressionResultsWrapper object at 0x000001FD5E914880>, array([[0., 0., 1., 0., 0.],\n",
      "       [0., 0., 0., 1., 0.]])]), 3: ({'ssr_ftest': (35.18648126530737, 1.0264252445688062e-22, 76408.0, 3), 'ssr_chi2test': (105.56911446007472, 9.85651729983378e-23, 3), 'lrtest': (105.49625845032278, 1.0218727608025175e-22, 3), 'params_ftest': (35.18648126531364, 1.0264252445641969e-22, 76408.0, 3.0)}, [<statsmodels.regression.linear_model.RegressionResultsWrapper object at 0x000001FD5E914D60>, <statsmodels.regression.linear_model.RegressionResultsWrapper object at 0x000001FD5E914CD0>, array([[0., 0., 0., 1., 0., 0., 0.],\n",
      "       [0., 0., 0., 0., 1., 0., 0.],\n",
      "       [0., 0., 0., 0., 0., 1., 0.]])])}\n",
      "\n",
      "Potential cause: extr_extr01_screw_load_r_value_act\n",
      "{1: ({'ssr_ftest': (45.28740781478686, 1.713348348049992e-11, 76414.0, 1), 'ssr_chi2test': (45.2891857903338, 1.6998515362267163e-11, 1), 'lrtest': (45.275770579697564, 1.7115351749266525e-11, 1), 'params_ftest': (45.28740781482936, 1.7133483480129035e-11, 76414.0, 1.0)}, [<statsmodels.regression.linear_model.RegressionResultsWrapper object at 0x000001FD5E914700>, <statsmodels.regression.linear_model.RegressionResultsWrapper object at 0x000001FD5E9143A0>, array([[0., 1., 0.]])]), 2: ({'ssr_ftest': (2348.5802311199445, 0.0, 76411.0, 2), 'ssr_chi2test': (4697.467823775679, 0.0, 2), 'lrtest': (4558.742695570691, 0.0, 2), 'params_ftest': (2348.580231119932, 0.0, 76411.0, 2.0)}, [<statsmodels.regression.linear_model.RegressionResultsWrapper object at 0x000001FD5E93E340>, <statsmodels.regression.linear_model.RegressionResultsWrapper object at 0x000001FD5E93E3A0>, array([[0., 0., 1., 0., 0.],\n",
      "       [0., 0., 0., 1., 0.]])]), 3: ({'ssr_ftest': (2152.0866688555293, 0.0, 76408.0, 3), 'ssr_chi2test': (6456.851486778686, 0.0, 3), 'lrtest': (6198.513121352182, 0.0, 3), 'params_ftest': (2152.086668855537, 0.0, 76408.0, 3.0)}, [<statsmodels.regression.linear_model.RegressionResultsWrapper object at 0x000001FD5E93E5B0>, <statsmodels.regression.linear_model.RegressionResultsWrapper object at 0x000001FD5E93E520>, array([[0., 0., 0., 1., 0., 0., 0.],\n",
      "       [0., 0., 0., 0., 1., 0., 0.],\n",
      "       [0., 0., 0., 0., 0., 1., 0.]])])}\n",
      "\n",
      "Potential cause: extr_extr01_screw_rotspeed_r_value_act\n",
      "{1: ({'ssr_ftest': (0.004343230225674498, 0.9474550746456427, 76414.0, 1), 'ssr_chi2test': (0.004343400740117886, 0.9474538722691122, 1), 'lrtest': (0.004343400592915714, 0.947453873158244, 1), 'params_ftest': (0.004343230237164019, 0.9474550745943988, 76414.0, 1.0)}, [<statsmodels.regression.linear_model.RegressionResultsWrapper object at 0x000001FD5E914670>, <statsmodels.regression.linear_model.RegressionResultsWrapper object at 0x000001FD5E9149D0>, array([[0., 1., 0.]])]), 2: ({'ssr_ftest': (0.12270374414656496, 0.8845258439429451, 76411.0, 2), 'ssr_chi2test': (0.24542354668055402, 0.8845185676560525, 2), 'lrtest': (0.24542315263533965, 0.884518741926224, 2), 'params_ftest': (0.12270374414893566, 0.8845258439429451, 76411.0, 2.0)}, [<statsmodels.regression.linear_model.RegressionResultsWrapper object at 0x000001FD5E914AC0>, <statsmodels.regression.linear_model.RegressionResultsWrapper object at 0x000001FD5E93E1C0>, array([[0., 0., 1., 0., 0.],\n",
      "       [0., 0., 0., 1., 0.]])]), 3: ({'ssr_ftest': (23.99274322783855, 1.6358228045068258e-15, 76408.0, 3), 'ssr_chi2test': (71.98482385700251, 1.6038613354077967e-15, 3), 'lrtest': (71.95093939133221, 1.6308920908963917e-15, 3), 'params_ftest': (23.992743227846006, 1.6358228044977598e-15, 76408.0, 3.0)}, [<statsmodels.regression.linear_model.RegressionResultsWrapper object at 0x000001FD5E93E7C0>, <statsmodels.regression.linear_model.RegressionResultsWrapper object at 0x000001FD5E93E6D0>, array([[0., 0., 0., 1., 0., 0., 0.],\n",
      "       [0., 0., 0., 0., 1., 0., 0.],\n",
      "       [0., 0., 0., 0., 0., 1., 0.]])])}\n",
      "\n",
      "Potential cause: extr_extr01_vacuum_r_value_act\n",
      "{1: ({'ssr_ftest': (1.0644981617184717, 0.30219476147371227, 76414.0, 1), 'ssr_chi2test': (1.0645399537262865, 0.302182005976102, 1), 'lrtest': (1.0645325389341451, 0.30218368968773046, 1), 'params_ftest': (1.0644981616893543, 0.30219476148247837, 76414.0, 1.0)}, [<statsmodels.regression.linear_model.RegressionResultsWrapper object at 0x000001FD5E914BE0>, <statsmodels.regression.linear_model.RegressionResultsWrapper object at 0x000001FD5E914C10>, array([[0., 1., 0.]])]), 2: ({'ssr_ftest': (44.79025569340609, 3.624370487981434e-20, 76411.0, 2), 'ssr_chi2test': (89.58637314175496, 3.520191139054177e-20, 2), 'lrtest': (89.5339008118608, 3.613769657415529e-20, 2), 'params_ftest': (44.79025569339437, 3.6243704880242096e-20, 76411.0, 2.0)}, [<statsmodels.regression.linear_model.RegressionResultsWrapper object at 0x000001FD5E93E2B0>, <statsmodels.regression.linear_model.RegressionResultsWrapper object at 0x000001FD5E93E220>, array([[0., 0., 1., 0., 0.],\n",
      "       [0., 0., 0., 1., 0.]])]), 3: ({'ssr_ftest': (62.33824938158354, 3.0167237485188782e-40, 76408.0, 3), 'ssr_chi2test': (187.0318812098356, 2.6714349312662824e-40, 3), 'lrtest': (186.80336619273294, 2.992976657791297e-40, 3), 'params_ftest': (62.338249381602054, 3.016723748430823e-40, 76408.0, 3.0)}, [<statsmodels.regression.linear_model.RegressionResultsWrapper object at 0x000001FD5E93EA00>, <statsmodels.regression.linear_model.RegressionResultsWrapper object at 0x000001FD5E93E910>, array([[0., 0., 0., 1., 0., 0., 0.],\n",
      "       [0., 0., 0., 0., 1., 0., 0.],\n",
      "       [0., 0., 0., 0., 0., 1., 0.]])])}\n",
      "\n",
      "Granger causality test results for extr_extr01_melt01_temp_r_value_act:\n",
      "Potential cause: extr_extr01_melt01_pressure_r_value_act\n",
      "{1: ({'ssr_ftest': (0.4559645980412928, 0.4995180304941609, 76414.0, 1), 'ssr_chi2test': (0.45598249913002165, 0.4995075674215541, 1), 'lrtest': (0.45598113868618384, 0.49950820730625456, 1), 'params_ftest': (0.4559645980227118, 0.49951803051012256, 76414.0, 1.0)}, [<statsmodels.regression.linear_model.RegressionResultsWrapper object at 0x000001FD5E914460>, <statsmodels.regression.linear_model.RegressionResultsWrapper object at 0x000001FD5E914670>, array([[0., 1., 0.]])]), 2: ({'ssr_ftest': (0.37473889626611645, 0.6874700194573553, 76411.0, 2), 'ssr_chi2test': (0.7495268350648874, 0.6874518986202153, 2), 'lrtest': (0.7495231591165066, 0.6874531621402232, 2), 'params_ftest': (0.3747388962320489, 0.6874700194835999, 76411.0, 2.0)}, [<statsmodels.regression.linear_model.RegressionResultsWrapper object at 0x000001FD5E93E610>, <statsmodels.regression.linear_model.RegressionResultsWrapper object at 0x000001FD5E93E790>, array([[0., 0., 1., 0., 0.],\n",
      "       [0., 0., 0., 1., 0.]])]), 3: ({'ssr_ftest': (1.1639122893590927, 0.3218428095903819, 76408.0, 3), 'ssr_chi2test': (3.4920567581159725, 0.32179379486381815, 3), 'lrtest': (3.4919769696425647, 0.3218041726940138, 3), 'params_ftest': (1.163912289405529, 0.3218428095697084, 76408.0, 3.0)}, [<statsmodels.regression.linear_model.RegressionResultsWrapper object at 0x000001FD5E93EB20>, <statsmodels.regression.linear_model.RegressionResultsWrapper object at 0x000001FD5E93E190>, array([[0., 0., 0., 1., 0., 0., 0.],\n",
      "       [0., 0., 0., 0., 1., 0., 0.],\n",
      "       [0., 0., 0., 0., 0., 1., 0.]])])}\n",
      "\n",
      "Potential cause: extr_extr01_screw_load_r_value_act\n",
      "{1: ({'ssr_ftest': (7.689681141762123, 0.005555089415742706, 76414.0, 1), 'ssr_chi2test': (7.68998303727113, 0.005552814945982653, 1), 'lrtest': (7.689596134528983, 0.005554005469706642, 1), 'params_ftest': (7.6896811416074975, 0.005555089416269519, 76414.0, 1.0)}, [<statsmodels.regression.linear_model.RegressionResultsWrapper object at 0x000001FD5E9149D0>, <statsmodels.regression.linear_model.RegressionResultsWrapper object at 0x000001FD5E914640>, array([[0., 1., 0.]])]), 2: ({'ssr_ftest': (253.43235680823787, 1.9914513914122482e-110, 76411.0, 2), 'ssr_chi2test': (506.89788061557385, 8.482498276999852e-111, 2), 'lrtest': (505.2240505061345, 1.9588057499321523e-110, 2), 'params_ftest': (253.432356808163, 1.9914513915648996e-110, 76411.0, 2.0)}, [<statsmodels.regression.linear_model.RegressionResultsWrapper object at 0x000001FD5E93E700>, <statsmodels.regression.linear_model.RegressionResultsWrapper object at 0x000001FD5E93E460>, array([[0., 0., 1., 0., 0.],\n",
      "       [0., 0., 0., 1., 0.]])]), 3: ({'ssr_ftest': (181.56595830430098, 2.565886433399046e-117, 76408.0, 3), 'ssr_chi2test': (544.7477765609555, 9.557760765393366e-118, 3), 'lrtest': (542.8152546645724, 2.5074314298405133e-117, 3), 'params_ftest': (181.56595830431493, 2.5658864333442047e-117, 76408.0, 3.0)}, [<statsmodels.regression.linear_model.RegressionResultsWrapper object at 0x000001FD5E93EC70>, <statsmodels.regression.linear_model.RegressionResultsWrapper object at 0x000001FD5E93E0D0>, array([[0., 0., 0., 1., 0., 0., 0.],\n",
      "       [0., 0., 0., 0., 1., 0., 0.],\n",
      "       [0., 0., 0., 0., 0., 1., 0.]])])}\n",
      "\n",
      "Potential cause: extr_extr01_screw_rotspeed_r_value_act\n"
     ]
    },
    {
     "name": "stdout",
     "output_type": "stream",
     "text": [
      "{1: ({'ssr_ftest': (23.52089920203622, 1.2380679336936233e-06, 76414.0, 1), 'ssr_chi2test': (23.521822628340377, 1.23504948046156e-06, 1), 'lrtest': (23.518203259271104, 1.2373749909628093e-06, 1), 'params_ftest': (23.520899202611623, 1.2380679333188358e-06, 76414.0, 1.0)}, [<statsmodels.regression.linear_model.RegressionResultsWrapper object at 0x000001FD5E914BE0>, <statsmodels.regression.linear_model.RegressionResultsWrapper object at 0x000001FD5E9145E0>, array([[0., 1., 0.]])]), 2: ({'ssr_ftest': (381.8944080915155, 9.306957574360566e-166, 76411.0, 2), 'ssr_chi2test': (763.8387951661737, 1.363054113823862e-166, 2), 'lrtest': (760.0464572259225, 9.078389636267407e-166, 2), 'params_ftest': (381.894408091369, 9.306957575717551e-166, 76411.0, 2.0)}, [<statsmodels.regression.linear_model.RegressionResultsWrapper object at 0x000001FD5E93E0A0>, <statsmodels.regression.linear_model.RegressionResultsWrapper object at 0x000001FD5E93E610>, array([[0., 0., 1., 0., 0.],\n",
      "       [0., 0., 0., 1., 0.]])]), 3: ({'ssr_ftest': (334.92979039133616, 4.320142243945072e-216, 76408.0, 3), 'ssr_chi2test': (1004.881423388413, 1.5710877397967193e-217, 3), 'lrtest': (998.3315287214355, 4.1407099185868016e-216, 3), 'params_ftest': (334.92979039138305, 4.320142243629758e-216, 76408.0, 3.0)}, [<statsmodels.regression.linear_model.RegressionResultsWrapper object at 0x000001FD5E93ED90>, <statsmodels.regression.linear_model.RegressionResultsWrapper object at 0x000001FD5E93E1C0>, array([[0., 0., 0., 1., 0., 0., 0.],\n",
      "       [0., 0., 0., 0., 1., 0., 0.],\n",
      "       [0., 0., 0., 0., 0., 1., 0.]])])}\n",
      "\n",
      "Potential cause: extr_extr01_vacuum_r_value_act\n",
      "{1: ({'ssr_ftest': (0.7723011602057505, 0.37950887341606276, 76414.0, 1), 'ssr_chi2test': (0.7723314806114434, 0.3794967551522984, 1), 'lrtest': (0.7723275777534582, 0.3794979593069514, 1), 'params_ftest': (0.7723011601518058, 0.3795088734343859, 76414.0, 1.0)}, [<statsmodels.regression.linear_model.RegressionResultsWrapper object at 0x000001FD5E914B20>, <statsmodels.regression.linear_model.RegressionResultsWrapper object at 0x000001FD5E9149D0>, array([[0., 1., 0.]])]), 2: ({'ssr_ftest': (2.0607868077669727, 0.1273608056880901, 76411.0, 2), 'ssr_chi2test': (4.121843313196294, 0.12733655521882423, 2), 'lrtest': (4.121732152008917, 0.1273436328568492, 2), 'params_ftest': (2.060786807762691, 0.1273608056880901, 76411.0, 2.0)}, [<statsmodels.regression.linear_model.RegressionResultsWrapper object at 0x000001FD5E93EB20>, <statsmodels.regression.linear_model.RegressionResultsWrapper object at 0x000001FD5E93E700>, array([[0., 0., 1., 0., 0.],\n",
      "       [0., 0., 0., 1., 0.]])]), 3: ({'ssr_ftest': (2.7417182477666926, 0.04158784116526173, 76408.0, 3), 'ssr_chi2test': (8.225908278050406, 0.04156645203567858, 3), 'lrtest': (8.22546555934241, 0.041574739827036564, 3), 'params_ftest': (2.741718247797627, 0.04158784116339013, 76408.0, 3.0)}, [<statsmodels.regression.linear_model.RegressionResultsWrapper object at 0x000001FD5E93EEB0>, <statsmodels.regression.linear_model.RegressionResultsWrapper object at 0x000001FD5E93E2B0>, array([[0., 0., 0., 1., 0., 0., 0.],\n",
      "       [0., 0., 0., 0., 1., 0., 0.],\n",
      "       [0., 0., 0., 0., 0., 1., 0.]])])}\n",
      "\n",
      "Granger causality test results for extr_extr01_screw_load_r_value_act:\n",
      "Potential cause: extr_extr01_melt01_pressure_r_value_act\n",
      "{1: ({'ssr_ftest': (1.8764748346744993, 0.17073937226323496, 76414.0, 1), 'ssr_chi2test': (1.8765485047415553, 0.1707269517630175, 1), 'lrtest': (1.8765254642348737, 0.17072957742428882, 1), 'params_ftest': (1.8764748347026179, 0.17073937226027425, 76414.0, 1.0)}, [<statsmodels.regression.linear_model.RegressionResultsWrapper object at 0x000001FD5E914610>, <statsmodels.regression.linear_model.RegressionResultsWrapper object at 0x000001FD5E914880>, array([[0., 1., 0.]])]), 2: ({'ssr_ftest': (647.1482978795775, 1.9991549731673407e-279, 76411.0, 2), 'ssr_chi2test': (1294.3812888397167, 8.485440431942395e-282, 2), 'lrtest': (1283.5410165220674, 1.9169448299970233e-279, 2), 'params_ftest': (647.1482978795407, 1.999154973244842e-279, 76411.0, 2.0)}, [<statsmodels.regression.linear_model.RegressionResultsWrapper object at 0x000001FD5E93EC70>, <statsmodels.regression.linear_model.RegressionResultsWrapper object at 0x000001FD5E93EB50>, array([[0., 0., 1., 0., 0.],\n",
      "       [0., 0., 0., 1., 0.]])]), 3: ({'ssr_ftest': (527.1197509074067, 0.0, 76408.0, 3), 'ssr_chi2test': (1581.5041264889599, 0.0, 3), 'lrtest': (1565.3608787292615, 0.0, 3), 'params_ftest': (527.1197509073994, 0.0, 76408.0, 3.0)}, [<statsmodels.regression.linear_model.RegressionResultsWrapper object at 0x000001FD5E93EFD0>, <statsmodels.regression.linear_model.RegressionResultsWrapper object at 0x000001FD5E93E6A0>, array([[0., 0., 0., 1., 0., 0., 0.],\n",
      "       [0., 0., 0., 0., 1., 0., 0.],\n",
      "       [0., 0., 0., 0., 0., 1., 0.]])])}\n",
      "\n",
      "Potential cause: extr_extr01_melt01_temp_r_value_act\n",
      "{1: ({'ssr_ftest': (16.854973764567298, 4.038933257185743e-05, 76414.0, 1), 'ssr_chi2test': (16.85563548782866, 4.033339006328539e-05, 1), 'lrtest': (16.853776800096966, 4.037290879398581e-05, 1), 'params_ftest': (16.854973764608726, 4.03893325709779e-05, 76414.0, 1.0)}, [<statsmodels.regression.linear_model.RegressionResultsWrapper object at 0x000001FD5E9143A0>, <statsmodels.regression.linear_model.RegressionResultsWrapper object at 0x000001FD5E914670>, array([[0., 1., 0.]])]), 2: ({'ssr_ftest': (74.47493941869023, 4.8688724953760095e-33, 76411.0, 2), 'ssr_chi2test': (148.95962546279023, 4.5063852587336116e-33, 2), 'lrtest': (148.81462849595118, 4.8452256634808974e-33, 2), 'params_ftest': (74.47493941869519, 4.8688724953342874e-33, 76411.0, 2.0)}, [<statsmodels.regression.linear_model.RegressionResultsWrapper object at 0x000001FD5E93E580>, <statsmodels.regression.linear_model.RegressionResultsWrapper object at 0x000001FD5E93EA60>, array([[0., 0., 1., 0., 0.],\n",
      "       [0., 0., 0., 1., 0.]])]), 3: ({'ssr_ftest': (52.95875652568754, 3.4754046530785286e-34, 76408.0, 3), 'ssr_chi2test': (158.89082477922784, 3.1804838835170305e-34, 3), 'lrtest': (158.72586140796193, 3.452166749622222e-34, 3), 'params_ftest': (52.95875652567886, 3.475404653108606e-34, 76408.0, 3.0)}, [<statsmodels.regression.linear_model.RegressionResultsWrapper object at 0x000001FD5E93EA00>, <statsmodels.regression.linear_model.RegressionResultsWrapper object at 0x000001FD5E948130>, array([[0., 0., 0., 1., 0., 0., 0.],\n",
      "       [0., 0., 0., 0., 1., 0., 0.],\n",
      "       [0., 0., 0., 0., 0., 1., 0.]])])}\n",
      "\n",
      "Potential cause: extr_extr01_screw_rotspeed_r_value_act\n",
      "{1: ({'ssr_ftest': (4.87068156432598, 0.027319671293146466, 76414.0, 1), 'ssr_chi2test': (4.870872786414774, 0.027313682862012096, 1), 'lrtest': (4.870717556623276, 0.027316139863808316, 1), 'params_ftest': (4.870681564437414, 0.027319671291333916, 76414.0, 1.0)}, [<statsmodels.regression.linear_model.RegressionResultsWrapper object at 0x000001FD5E9149A0>, <statsmodels.regression.linear_model.RegressionResultsWrapper object at 0x000001FD5E914610>, array([[0., 1., 0.]])]), 2: ({'ssr_ftest': (1234.3003784173884, 0.0, 76411.0, 2), 'ssr_chi2test': (2468.7622912183624, 0.0, 2), 'lrtest': (2429.7219145926647, 0.0, 2), 'params_ftest': (1234.3003784173432, 0.0, 76411.0, 2.0)}, [<statsmodels.regression.linear_model.RegressionResultsWrapper object at 0x000001FD5E93EC70>, <statsmodels.regression.linear_model.RegressionResultsWrapper object at 0x000001FD5E93E790>, array([[0., 0., 1., 0., 0.],\n",
      "       [0., 0., 0., 1., 0.]])]), 3: ({'ssr_ftest': (838.3036050588528, 0.0, 76408.0, 3), 'ssr_chi2test': (2515.14121481673, 0.0, 3), 'lrtest': (2474.635651622375, 0.0, 3), 'params_ftest': (838.3036050588129, 0.0, 76408.0, 3.0)}, [<statsmodels.regression.linear_model.RegressionResultsWrapper object at 0x000001FD5E93E0A0>, <statsmodels.regression.linear_model.RegressionResultsWrapper object at 0x000001FD5E948250>, array([[0., 0., 0., 1., 0., 0., 0.],\n",
      "       [0., 0., 0., 0., 1., 0., 0.],\n",
      "       [0., 0., 0., 0., 0., 1., 0.]])])}\n",
      "\n",
      "Potential cause: extr_extr01_vacuum_r_value_act\n",
      "{1: ({'ssr_ftest': (2.0260359021088292, 0.15462753719416417, 76414.0, 1), 'ssr_chi2test': (2.0261154439166957, 0.154615359339765, 1), 'lrtest': (2.026088584214449, 0.15461809283388148, 1), 'params_ftest': (2.026035902098421, 0.15462753719416417, 76414.0, 1.0)}, [<statsmodels.regression.linear_model.RegressionResultsWrapper object at 0x000001FD5E914B50>, <statsmodels.regression.linear_model.RegressionResultsWrapper object at 0x000001FD5E914EB0>, array([[0., 1., 0.]])]), 2: ({'ssr_ftest': (4.840401056815552, 0.00790630720032391, 76411.0, 2), 'ssr_chi2test': (9.681435582772565, 0.007901380472770936, 2), 'lrtest': (9.680822345428169, 0.007903803555022177, 2), 'params_ftest': (4.840401056829672, 0.007906307200191065, 76411.0, 2.0)}, [<statsmodels.regression.linear_model.RegressionResultsWrapper object at 0x000001FD5E93E2B0>, <statsmodels.regression.linear_model.RegressionResultsWrapper object at 0x000001FD5E93E700>, array([[0., 0., 1., 0., 0.],\n",
      "       [0., 0., 0., 1., 0.]])]), 3: ({'ssr_ftest': (4.248473555038485, 0.005223159784806125, 76408.0, 3), 'ssr_chi2test': (12.746588316992954, 0.0052179382451200155, 3), 'lrtest': (12.745525322447065, 0.0052205226345728795, 3), 'params_ftest': (4.248473555051961, 0.005223159784666688, 76408.0, 3.0)}, [<statsmodels.regression.linear_model.RegressionResultsWrapper object at 0x000001FD5E9482B0>, <statsmodels.regression.linear_model.RegressionResultsWrapper object at 0x000001FD5E948130>, array([[0., 0., 0., 1., 0., 0., 0.],\n",
      "       [0., 0., 0., 0., 1., 0., 0.],\n",
      "       [0., 0., 0., 0., 0., 1., 0.]])])}\n",
      "\n",
      "Granger causality test results for extr_extr01_screw_rotspeed_r_value_act:\n",
      "Potential cause: extr_extr01_melt01_pressure_r_value_act\n"
     ]
    },
    {
     "name": "stdout",
     "output_type": "stream",
     "text": [
      "{1: ({'ssr_ftest': (1.4502671897938277, 0.22848881460351522, 76414.0, 1), 'ssr_chi2test': (1.4503241270248246, 0.22847595071163512, 1), 'lrtest': (1.4503103645402007, 0.2284781584266867, 1), 'params_ftest': (1.4502671902122417, 0.22848881453624284, 76414.0, 1.0)}, [<statsmodels.regression.linear_model.RegressionResultsWrapper object at 0x000001FD5E9143A0>, <statsmodels.regression.linear_model.RegressionResultsWrapper object at 0x000001FD5E914640>, array([[0., 1., 0.]])]), 2: ({'ssr_ftest': (229.71890384988887, 3.4125747361437664e-100, 76411.0, 2), 'ssr_chi2test': (459.46787129060226, 1.6897382818019808e-100, 2), 'lrtest': (458.0920580463717, 3.361812544249224e-100, 2), 'params_ftest': (229.71890385004153, 3.412574735619238e-100, 76411.0, 2.0)}, [<statsmodels.regression.linear_model.RegressionResultsWrapper object at 0x000001FD5E93E6A0>, <statsmodels.regression.linear_model.RegressionResultsWrapper object at 0x000001FD5E93E7C0>, array([[0., 0., 1., 0., 0.],\n",
      "       [0., 0., 0., 1., 0.]])]), 3: ({'ssr_ftest': (207.96491549506584, 2.352441706386205e-134, 76408.0, 3), 'ssr_chi2test': (623.9519036313785, 6.46808369983814e-135, 3), 'lrtest': (621.418306720414, 2.2911762508459743e-134, 3), 'params_ftest': (207.96491549521713, 2.3524417058638918e-134, 76408.0, 3.0)}, [<statsmodels.regression.linear_model.RegressionResultsWrapper object at 0x000001FD5E9483D0>, <statsmodels.regression.linear_model.RegressionResultsWrapper object at 0x000001FD5E9481F0>, array([[0., 0., 0., 1., 0., 0., 0.],\n",
      "       [0., 0., 0., 0., 1., 0., 0.],\n",
      "       [0., 0., 0., 0., 0., 1., 0.]])])}\n",
      "\n",
      "Potential cause: extr_extr01_melt01_temp_r_value_act\n",
      "{1: ({'ssr_ftest': (16.66758065932396, 4.4580881354520775e-05, 76414.0, 1), 'ssr_chi2test': (16.66823502556546, 4.4520266687785605e-05, 1), 'lrtest': (16.666417435131734, 4.456294519672453e-05, 1), 'params_ftest': (16.667580659754805, 4.4580881344770396e-05, 76414.0, 1.0)}, [<statsmodels.regression.linear_model.RegressionResultsWrapper object at 0x000001FD5E9144F0>, <statsmodels.regression.linear_model.RegressionResultsWrapper object at 0x000001FD5E914B50>, array([[0., 1., 0.]])]), 2: ({'ssr_ftest': (383.39376941773605, 2.1091156674346243e-166, 76411.0, 2), 'ssr_chi2test': (766.8377140418453, 3.043029329086964e-167, 2), 'lrtest': (763.0156385075534, 2.0571184301734763e-166, 2), 'params_ftest': (383.3937694176978, 2.1091156675070375e-166, 76411.0, 2.0)}, [<statsmodels.regression.linear_model.RegressionResultsWrapper object at 0x000001FD5E93EA60>, <statsmodels.regression.linear_model.RegressionResultsWrapper object at 0x000001FD5E93EC40>, array([[0., 0., 1., 0., 0.],\n",
      "       [0., 0., 0., 1., 0.]])]), 3: ({'ssr_ftest': (313.54559164403213, 2.3813712122208737e-202, 76408.0, 3), 'ssr_chi2test': (940.7229499062421, 1.2993878021103258e-203, 3), 'lrtest': (934.9795547226677, 2.288622786875177e-202, 3), 'params_ftest': (313.5455916439975, 2.3813712123333622e-202, 76408.0, 3.0)}, [<statsmodels.regression.linear_model.RegressionResultsWrapper object at 0x000001FD5E9484F0>, <statsmodels.regression.linear_model.RegressionResultsWrapper object at 0x000001FD5E948310>, array([[0., 0., 0., 1., 0., 0., 0.],\n",
      "       [0., 0., 0., 0., 1., 0., 0.],\n",
      "       [0., 0., 0., 0., 0., 1., 0.]])])}\n",
      "\n",
      "Potential cause: extr_extr01_screw_load_r_value_act\n",
      "{1: ({'ssr_ftest': (0.9467437423499495, 0.33055261692519144, 76414.0, 1), 'ssr_chi2test': (0.9467809113402792, 0.3305400443957059, 1), 'lrtest': (0.9467750464100391, 0.3305415422122273, 1), 'params_ftest': (0.9467437425421157, 0.3305526168731905, 76414.0, 1.0)}, [<statsmodels.regression.linear_model.RegressionResultsWrapper object at 0x000001FD5E914730>, <statsmodels.regression.linear_model.RegressionResultsWrapper object at 0x000001FD5E914610>, array([[0., 1., 0.]])]), 2: ({'ssr_ftest': (413.44037580646375, 2.5686159840097345e-179, 76411.0, 2), 'ssr_chi2test': (826.9348590550244, 2.7125447364092505e-180, 2), 'lrtest': (822.4925456150668, 2.5004203016433095e-179, 2), 'params_ftest': (413.44037580655083, 2.5686159837783102e-179, 76411.0, 2.0)}, [<statsmodels.regression.linear_model.RegressionResultsWrapper object at 0x000001FD5E93E7C0>, <statsmodels.regression.linear_model.RegressionResultsWrapper object at 0x000001FD5E93EE50>, array([[0., 0., 1., 0., 0.],\n",
      "       [0., 0., 0., 1., 0.]])]), 3: ({'ssr_ftest': (314.57190132695916, 5.213019839148925e-203, 76408.0, 3), 'ssr_chi2test': (943.802161026316, 2.791288325734468e-204, 3), 'lrtest': (938.0212590177252, 5.0093376317834033e-203, 3), 'params_ftest': (314.5719013270096, 5.213019838769034e-203, 76408.0, 3.0)}, [<statsmodels.regression.linear_model.RegressionResultsWrapper object at 0x000001FD5E9486D0>, <statsmodels.regression.linear_model.RegressionResultsWrapper object at 0x000001FD5E948490>, array([[0., 0., 0., 1., 0., 0., 0.],\n",
      "       [0., 0., 0., 0., 1., 0., 0.],\n",
      "       [0., 0., 0., 0., 0., 1., 0.]])])}\n",
      "\n",
      "Potential cause: extr_extr01_vacuum_r_value_act\n",
      "{1: ({'ssr_ftest': (15.041967799467619, 0.00010523476407521219, 76414.0, 1), 'ssr_chi2test': (15.042558344438415, 0.00010511388218019254, 1), 'lrtest': (15.041077987727476, 0.00010519635996215818, 1), 'params_ftest': (15.041967796441998, 0.00010523476424396152, 76414.0, 1.0)}, [<statsmodels.regression.linear_model.RegressionResultsWrapper object at 0x000001FD5E93E0A0>, <statsmodels.regression.linear_model.RegressionResultsWrapper object at 0x000001FD5E914460>, array([[0., 1., 0.]])]), 2: ({'ssr_ftest': (154.1702439600996, 1.511622755935733e-67, 76411.0, 2), 'ssr_chi2test': (308.36066436651714, 1.0973180291468785e-67, 2), 'lrtest': (307.7401708145917, 1.496480208910291e-67, 2), 'params_ftest': (154.170243960148, 1.511622755859216e-67, 76411.0, 2.0)}, [<statsmodels.regression.linear_model.RegressionResultsWrapper object at 0x000001FD5E914FD0>, <statsmodels.regression.linear_model.RegressionResultsWrapper object at 0x000001FD5E914EB0>, array([[0., 0., 1., 0., 0.],\n",
      "       [0., 0., 0., 1., 0.]])]), 3: ({'ssr_ftest': (111.41751536975475, 5.503074774159267e-72, 76408.0, 3), 'ssr_chi2test': (334.28316813605153, 3.77244624742827e-72, 3), 'lrtest': (333.55412010860164, 5.425784523601947e-72, 3), 'params_ftest': (111.41751536975632, 5.503074774113596e-72, 76408.0, 3.0)}, [<statsmodels.regression.linear_model.RegressionResultsWrapper object at 0x000001FD5E9487F0>, <statsmodels.regression.linear_model.RegressionResultsWrapper object at 0x000001FD5E948040>, array([[0., 0., 0., 1., 0., 0., 0.],\n",
      "       [0., 0., 0., 0., 1., 0., 0.],\n",
      "       [0., 0., 0., 0., 0., 1., 0.]])])}\n",
      "\n",
      "Granger causality test results for extr_extr01_vacuum_r_value_act:\n",
      "Potential cause: extr_extr01_melt01_pressure_r_value_act\n",
      "{1: ({'ssr_ftest': (805.2064930163756, 3.289726320672004e-176, 76414.0, 1), 'ssr_chi2test': (805.2381052795611, 3.919289638374347e-177, 1), 'lrtest': (801.0251090275124, 3.22986333718204e-176, 1), 'params_ftest': (805.2064930163344, 3.28972632074269e-176, 76414.0, 1.0)}, [<statsmodels.regression.linear_model.RegressionResultsWrapper object at 0x000001FD5E9149A0>, <statsmodels.regression.linear_model.RegressionResultsWrapper object at 0x000001FD5E9149D0>, array([[0., 1., 0.]])]), 2: ({'ssr_ftest': (375.47181753625495, 5.379326862176038e-163, 76411.0, 2), 'ssr_chi2test': (750.9927735234575, 8.394430827930073e-164, 2), 'lrtest': (747.3265123830643, 5.249400956121548e-163, 2), 'params_ftest': (375.47181753616354, 5.379326862682409e-163, 76411.0, 2.0)}, [<statsmodels.regression.linear_model.RegressionResultsWrapper object at 0x000001FD5E93E1C0>, <statsmodels.regression.linear_model.RegressionResultsWrapper object at 0x000001FD5E93EE50>, array([[0., 0., 1., 0., 0.],\n",
      "       [0., 0., 0., 1., 0.]])]), 3: ({'ssr_ftest': (223.3327668277173, 2.881484323344662e-144, 76408.0, 3), 'ssr_chi2test': (670.0596813346777, 6.51677052155145e-145, 3), 'lrtest': (667.1389689594507, 2.8009883242745684e-144, 3), 'params_ftest': (223.33276682774112, 2.881484323258343e-144, 76408.0, 3.0)}, [<statsmodels.regression.linear_model.RegressionResultsWrapper object at 0x000001FD5E948910>, <statsmodels.regression.linear_model.RegressionResultsWrapper object at 0x000001FD5E948850>, array([[0., 0., 0., 1., 0., 0., 0.],\n",
      "       [0., 0., 0., 0., 1., 0., 0.],\n",
      "       [0., 0., 0., 0., 0., 1., 0.]])])}\n",
      "\n",
      "Potential cause: extr_extr01_melt01_temp_r_value_act\n"
     ]
    },
    {
     "name": "stdout",
     "output_type": "stream",
     "text": [
      "{1: ({'ssr_ftest': (3286.0262907086044, 0.0, 76414.0, 1), 'ssr_chi2test': (3286.1552995142174, 0.0, 1), 'lrtest': (3217.4606197801186, 0.0, 1), 'params_ftest': (3286.026290708735, 0.0, 76414.0, 1.0)}, [<statsmodels.regression.linear_model.RegressionResultsWrapper object at 0x000001FD5E914B80>, <statsmodels.regression.linear_model.RegressionResultsWrapper object at 0x000001FD5E914A00>, array([[0., 1., 0.]])]), 2: ({'ssr_ftest': (1502.6173647320097, 0.0, 76411.0, 2), 'ssr_chi2test': (3005.431378816172, 0.0, 2), 'lrtest': (2947.8350869469577, 0.0, 2), 'params_ftest': (1502.6173647320147, 0.0, 76411.0, 2.0)}, [<statsmodels.regression.linear_model.RegressionResultsWrapper object at 0x000001FD5E93E7C0>, <statsmodels.regression.linear_model.RegressionResultsWrapper object at 0x000001FD5E9487F0>, array([[0., 0., 1., 0., 0.],\n",
      "       [0., 0., 0., 1., 0.]])]), 3: ({'ssr_ftest': (915.9007814920172, 0.0, 76408.0, 3), 'ssr_chi2test': (2747.9540709498674, 0.0, 3), 'lrtest': (2699.698071073508, 0.0, 3), 'params_ftest': (915.9007814921096, 0.0, 76408.0, 3.0)}, [<statsmodels.regression.linear_model.RegressionResultsWrapper object at 0x000001FD5E948A30>, <statsmodels.regression.linear_model.RegressionResultsWrapper object at 0x000001FD5E9484F0>, array([[0., 0., 0., 1., 0., 0., 0.],\n",
      "       [0., 0., 0., 0., 1., 0., 0.],\n",
      "       [0., 0., 0., 0., 0., 1., 0.]])])}\n",
      "\n",
      "Potential cause: extr_extr01_screw_load_r_value_act\n",
      "{1: ({'ssr_ftest': (369.21744339347185, 4.3321040126894985e-82, 76414.0, 1), 'ssr_chi2test': (369.2319388043937, 2.7505864392608554e-82, 1), 'lrtest': (368.3427737216698, 4.2956193864598e-82, 1), 'params_ftest': (369.2174433933436, 4.33210401296764e-82, 76414.0, 1.0)}, [<statsmodels.regression.linear_model.RegressionResultsWrapper object at 0x000001FD5E914FD0>, <statsmodels.regression.linear_model.RegressionResultsWrapper object at 0x000001FD5E9149D0>, array([[0., 1., 0.]])]), 2: ({'ssr_ftest': (192.6349031037756, 3.547552805789419e-84, 76411.0, 2), 'ssr_chi2test': (385.2950165703397, 2.158987855221537e-84, 2), 'lrtest': (384.32692661171313, 3.5032268666279905e-84, 2), 'params_ftest': (192.63490310375965, 3.5475528058348924e-84, 76411.0, 2.0)}, [<statsmodels.regression.linear_model.RegressionResultsWrapper object at 0x000001FD5E93E2B0>, <statsmodels.regression.linear_model.RegressionResultsWrapper object at 0x000001FD5E948910>, array([[0., 0., 1., 0., 0.],\n",
      "       [0., 0., 0., 1., 0.]])]), 3: ({'ssr_ftest': (140.192538864809, 1.3704592163680351e-90, 76408.0, 3), 'ssr_chi2test': (420.61614715819206, 7.573140941966291e-91, 3), 'lrtest': (419.46276498492807, 1.346282970521951e-90, 3), 'params_ftest': (140.19253886479405, 1.3704592163972874e-90, 76408.0, 3.0)}, [<statsmodels.regression.linear_model.RegressionResultsWrapper object at 0x000001FD5E948B50>, <statsmodels.regression.linear_model.RegressionResultsWrapper object at 0x000001FD5E9486A0>, array([[0., 0., 0., 1., 0., 0., 0.],\n",
      "       [0., 0., 0., 0., 1., 0., 0.],\n",
      "       [0., 0., 0., 0., 0., 1., 0.]])])}\n",
      "\n",
      "Potential cause: extr_extr01_screw_rotspeed_r_value_act\n",
      "{1: ({'ssr_ftest': (970.6813055234697, 9.066993650100224e-212, 76414.0, 1), 'ssr_chi2test': (970.7194142982568, 4.158190698649242e-213, 1), 'lrtest': (964.6056470855838, 8.868725668721648e-212, 1), 'params_ftest': (970.6813055232503, 9.066993651074843e-212, 76414.0, 1.0)}, [<statsmodels.regression.linear_model.RegressionResultsWrapper object at 0x000001FD5E93E700>, <statsmodels.regression.linear_model.RegressionResultsWrapper object at 0x000001FD5E914DC0>, array([[0., 1., 0.]])]), 2: ({'ssr_ftest': (443.79481393239655, 2.3614936089116207e-192, 76411.0, 2), 'ssr_chi2test': (887.6477078289256, 1.7772532124899103e-193, 2), 'lrtest': (882.5318323272513, 2.294286016598773e-192, 2), 'params_ftest': (443.7948139323702, 2.361493608982497e-192, 76411.0, 2.0)}, [<statsmodels.regression.linear_model.RegressionResultsWrapper object at 0x000001FD5E914460>, <statsmodels.regression.linear_model.RegressionResultsWrapper object at 0x000001FD5E948370>, array([[0., 0., 1., 0., 0.],\n",
      "       [0., 0., 0., 1., 0.]])]), 3: ({'ssr_ftest': (262.1834217958881, 2.654778390693707e-169, 76408.0, 3), 'ssr_chi2test': (786.6223239660554, 3.447521048417324e-170, 3), 'lrtest': (782.6011192314327, 2.567972475758635e-169, 3), 'params_ftest': (262.1834217960392, 2.6547783901026056e-169, 76408.0, 3.0)}, [<statsmodels.regression.linear_model.RegressionResultsWrapper object at 0x000001FD5E948C70>, <statsmodels.regression.linear_model.RegressionResultsWrapper object at 0x000001FD5E948040>, array([[0., 0., 0., 1., 0., 0., 0.],\n",
      "       [0., 0., 0., 0., 1., 0., 0.],\n",
      "       [0., 0., 0., 0., 0., 1., 0.]])])}\n",
      "\n"
     ]
    }
   ],
   "source": [
    "import pandas as pd\n",
    "from statsmodels.tsa.stattools import grangercausalitytests\n",
    "\n",
    "# Define the selected columns\n",
    "selected_columns = ['extr_extr01_melt01_pressure_r_value_act', \n",
    "                    'extr_extr01_melt01_temp_r_value_act', \n",
    "                    'extr_extr01_screw_load_r_value_act', \n",
    "                    'extr_extr01_screw_rotspeed_r_value_act'\n",
    "                   ]\n",
    "\n",
    "# Fill missing values using forward fill and backward fill\n",
    "filtered_df_new.fillna(method='ffill', inplace=True)  # Forward fill missing values\n",
    "filtered_df_new.fillna(method='bfill', inplace=True)  # Backward fill remaining missing values\n",
    "\n",
    "#time lag depends on the frequency of the data\n",
    "\n",
    "# Perform Granger causality test for each pair of columns\n",
    "for target_column in selected_columns:\n",
    "    print(f\"Granger causality test results for {target_column}:\")\n",
    "    for potential_cause_column in selected_columns:\n",
    "        if potential_cause_column != target_column:\n",
    "            print(f\"Potential cause: {potential_cause_column}\")\n",
    "            data = pd.concat([filtered_df_new[target_column], filtered_df_new[potential_cause_column]], axis=1)\n",
    "            result = grangercausalitytests(data, maxlag=3, verbose=False)\n",
    "            print(result)\n",
    "            print()\n"
   ]
  },
  {
   "cell_type": "code",
   "execution_count": 20,
   "id": "b51b684f",
   "metadata": {},
   "outputs": [],
   "source": []
  },
  {
   "cell_type": "code",
   "execution_count": 21,
   "id": "9ec33393",
   "metadata": {},
   "outputs": [],
   "source": []
  },
  {
   "cell_type": "code",
   "execution_count": 22,
   "id": "d8059716",
   "metadata": {},
   "outputs": [],
   "source": []
  },
  {
   "cell_type": "code",
   "execution_count": null,
   "id": "c5c78bf1",
   "metadata": {},
   "outputs": [],
   "source": []
  },
  {
   "cell_type": "code",
   "execution_count": 15,
   "id": "dd43f646",
   "metadata": {},
   "outputs": [],
   "source": []
  },
  {
   "cell_type": "code",
   "execution_count": null,
   "id": "bca4f1ed",
   "metadata": {},
   "outputs": [],
   "source": []
  },
  {
   "cell_type": "code",
   "execution_count": null,
   "id": "ccb03395",
   "metadata": {},
   "outputs": [],
   "source": []
  },
  {
   "cell_type": "code",
   "execution_count": null,
   "id": "5c3c44ca",
   "metadata": {},
   "outputs": [],
   "source": []
  },
  {
   "cell_type": "code",
   "execution_count": null,
   "id": "adcb94a3",
   "metadata": {},
   "outputs": [],
   "source": []
  },
  {
   "cell_type": "code",
   "execution_count": null,
   "id": "ec981a94",
   "metadata": {},
   "outputs": [],
   "source": []
  },
  {
   "cell_type": "code",
   "execution_count": null,
   "id": "9c5b2376",
   "metadata": {},
   "outputs": [],
   "source": []
  },
  {
   "cell_type": "code",
   "execution_count": 25,
   "id": "ee1d9dac",
   "metadata": {},
   "outputs": [],
   "source": []
  },
  {
   "cell_type": "code",
   "execution_count": null,
   "id": "61de5287",
   "metadata": {},
   "outputs": [],
   "source": []
  },
  {
   "cell_type": "code",
   "execution_count": null,
   "id": "9a9cc60c",
   "metadata": {},
   "outputs": [],
   "source": []
  }
 ],
 "metadata": {
  "kernelspec": {
   "display_name": "Python 3 (ipykernel)",
   "language": "python",
   "name": "python3"
  },
  "language_info": {
   "codemirror_mode": {
    "name": "ipython",
    "version": 3
   },
   "file_extension": ".py",
   "mimetype": "text/x-python",
   "name": "python",
   "nbconvert_exporter": "python",
   "pygments_lexer": "ipython3",
   "version": "3.9.13"
  }
 },
 "nbformat": 4,
 "nbformat_minor": 5
}
